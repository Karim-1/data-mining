{
 "cells": [
  {
   "cell_type": "code",
   "execution_count": 1,
   "metadata": {},
   "outputs": [],
   "source": [
    "import pandas as pd\n",
    "import numpy as np\n",
    "import copy\n",
    "import matplotlib.pyplot as plt\n",
    "import seaborn as sns\n",
    "import random\n",
    "from tqdm import tqdm\n",
    "import math\n",
    "import missingno as msno\n",
    "import dateparser\n",
    "import time\n",
    "from numpy.core.numeric import NaN\n",
    "\n",
    "from sklearn.pipeline import make_pipeline\n",
    "from sklearn.preprocessing import StandardScaler\n",
    "from sklearn.datasets import make_classification\n",
    "from sklearn import linear_model\n",
    "from sklearn.preprocessing import LabelEncoder\n",
    "from sklearn.ensemble import RandomForestClassifier\n",
    "import matplotlib as mpl\n",
    "from wordcloud import WordCloud\n",
    "from sklearn.metrics import accuracy_score, log_loss\n",
    "from sklearn.naive_bayes import GaussianNB\n",
    "from sklearn.ensemble import RandomForestClassifier\n",
    "from sklearn.model_selection import train_test_split\n",
    "from sklearn.model_selection import cross_validate\n",
    "from sklearn.model_selection import cross_val_score\n",
    "from sklearn.model_selection import cross_val_predict\n",
    "\n",
    "from sklearn.metrics import confusion_matrix\n",
    "from sklearn.svm import SVC, LinearSVC\n",
    "from xgboost import XGBClassifier\n",
    "from sklearn.model_selection import train_test_split\n",
    "from sklearn.metrics import mean_squared_error\n",
    "\n",
    "from sklearn import datasets, svm\n",
    "from sklearn.model_selection import GridSearchCV\n",
    "\n",
    "import xgboost as xgb"
   ]
  },
  {
   "cell_type": "code",
   "execution_count": 2,
   "metadata": {},
   "outputs": [],
   "source": [
    "test = pd.read_csv(\"../../test_final.csv\")\n",
    "train = pd.read_csv(\"../../train_final.csv\")\n",
    "\n",
    "train = train.drop(columns=['Unnamed: 0'])\n",
    "test = test.drop(columns='Unnamed: 0')\n",
    "\n",
    "booking_bool = train['booking_bool'].to_numpy()\n",
    "test_ids = test['srch_id'].to_numpy()"
   ]
  },
  {
   "cell_type": "code",
   "execution_count": null,
   "metadata": {},
   "outputs": [],
   "source": [
    "# maybe a better score function, we could try this instead of booking bool and see what it does\n",
    "# score = []\n",
    "\n",
    "# for i in range(len(train[train.columns[1]])):\n",
    "#     if train['booking_bool'][i] == 1:\n",
    "#         score.append(5)\n",
    "#     elif train['click_bool'][i] == 1:\n",
    "#         score.append(1)\n",
    "#     else:\n",
    "#         score.append(0)\n",
    "\n",
    "# train['score'] = score"
   ]
  },
  {
   "cell_type": "code",
   "execution_count": null,
   "metadata": {},
   "outputs": [],
   "source": [
    "click_bool = train['click_bool']\n",
    "train = train.drop(columns=['click_bool'])"
   ]
  },
  {
   "cell_type": "code",
   "execution_count": null,
   "metadata": {},
   "outputs": [],
   "source": [
    "for column in train.columns:\n",
    "    if column not in test.columns:\n",
    "        train = train.drop(columns=column)\n",
    "\n",
    "print(len(test.columns))\n",
    "print(len(train.columns))"
   ]
  },
  {
   "cell_type": "code",
   "execution_count": null,
   "metadata": {},
   "outputs": [],
   "source": [
    "len(train.index)\n",
    "# check hier ff of length goed is!"
   ]
  },
  {
   "cell_type": "code",
   "execution_count": null,
   "metadata": {
    "tags": []
   },
   "outputs": [],
   "source": [
    "print(\"nu start regressor\")\n",
    "\n",
    "# pas dit aan naar random forest!! ik weet niet iets van de parameters ervoor.\n",
    "\n",
    "clf = RandomForestClassifier().fit(train, score)\n",
    "\n",
    "# boost = xgb.XGBRegressor().fit(train, booking_bool)\n",
    "\n",
    "print(\"fitten klaar nu predicten\")\n",
    "\n",
    "# boost_predictions = boost.predict(test)\n",
    "clf_predictions = clf.predict_proba(test)"
   ]
  },
  {
   "cell_type": "code",
   "execution_count": null,
   "metadata": {},
   "outputs": [],
   "source": [
    "test_results = pd.DataFrame()\n",
    "test_results['srch_id'] = test_ids\n",
    "test_results['prop_id'] = [int(x) for x in test['prop_id']]\n",
    "\n",
    "print(\"predicten klaar nu appenden en dan omzetten sorten en exporten\")\n",
    "\n",
    "pred_1 = []\n",
    "# TODO: pas hier boost aan als je RANDOM FOREST GEBRUIKT!!\n",
    "for i in range(len(clf_predictions)):\n",
    "    pred_1.append(clf_predictions[i])\n",
    "\n",
    "test_results['Probability_of_booking'] = pred_1\n",
    "\n",
    "final_results = test_results.sort_values(by = ['srch_id','Probability_of_booking'], ascending=[True,False])\n",
    "final_results = final_results.drop('Probability_of_booking', 1)\n",
    "\n",
    "# PAS DIRECTORY AAN NAAR GOEDE WAAR DIE HEEN MOET!\n",
    "final_results.to_csv('random_forest_predict.csv', index=False)"
   ]
  }
 ],
 "metadata": {
  "kernelspec": {
   "display_name": "Python 3",
   "language": "python",
   "name": "python3"
  },
  "language_info": {
   "codemirror_mode": {
    "name": "ipython",
    "version": 3
   },
   "file_extension": ".py",
   "mimetype": "text/x-python",
   "name": "python",
   "nbconvert_exporter": "python",
   "pygments_lexer": "ipython3",
   "version": "3.8.7"
  },
  "metadata": {
   "interpreter": {
    "hash": "1ee38ef4a5a9feb55287fd749643f13d043cb0a7addaab2a9c224cbe137c0062"
   }
  }
 },
 "nbformat": 4,
 "nbformat_minor": 4
}
