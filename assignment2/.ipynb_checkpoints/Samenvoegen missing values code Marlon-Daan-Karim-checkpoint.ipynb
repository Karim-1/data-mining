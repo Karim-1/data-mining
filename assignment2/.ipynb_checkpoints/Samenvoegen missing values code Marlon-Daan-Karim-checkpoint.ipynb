{
 "cells": [
  {
   "cell_type": "code",
   "execution_count": 1,
   "metadata": {},
   "outputs": [],
   "source": [
    "import pandas as pd\n",
    "import numpy as np\n",
    "import copy\n",
    "import matplotlib.pyplot as plt\n",
    "import seaborn as sns\n",
    "import random\n",
    "from tqdm import tqdm\n",
    "import math\n",
    "import missingno as msno"
   ]
  },
  {
   "cell_type": "markdown",
   "metadata": {},
   "source": [
    "# Marlon's stuk"
   ]
  },
  {
   "cell_type": "code",
   "execution_count": 2,
   "metadata": {},
   "outputs": [],
   "source": [
    "def tic():\n",
    "    #Homemade version of matlab tic and toc functions\n",
    "    import time\n",
    "    global startTime_for_tictoc\n",
    "    startTime_for_tictoc = time.time()\n",
    "\n",
    "def toc():\n",
    "    import time\n",
    "    if 'startTime_for_tictoc' in globals():\n",
    "        print (\"Elapsed time is \" + str(time.time() - startTime_for_tictoc) + \" seconds.\")\n",
    "    else:\n",
    "        print(\"Toc: start time not set\")"
   ]
  },
  {
   "cell_type": "code",
   "execution_count": 3,
   "metadata": {},
   "outputs": [
    {
     "name": "stdout",
     "output_type": "stream",
     "text": [
      "Elapsed time is 0.24003148078918457 seconds.\n"
     ]
    },
    {
     "name": "stderr",
     "output_type": "stream",
     "text": [
      "<ipython-input-3-d966af75fcf3>:9: SettingWithCopyWarning: \n",
      "A value is trying to be set on a copy of a slice from a DataFrame\n",
      "\n",
      "See the caveats in the documentation: https://pandas.pydata.org/pandas-docs/stable/user_guide/indexing.html#returning-a-view-versus-a-copy\n",
      "  df['prop_review_score'][i] = df['prop_starrating'][i]\n"
     ]
    },
    {
     "name": "stdout",
     "output_type": "stream",
     "text": [
      "Elapsed time is 0.3881983757019043 seconds.\n"
     ]
    }
   ],
   "source": [
    "tic()\n",
    "df = pd.read_csv(\"small_data/50000_training_set_VU_DM.csv\")\n",
    "toc()\n",
    "\n",
    "# Code to replace missing prop_review_score values with corresponding propstarrating vlaues.\n",
    "def fill_prop_review_score(df):\n",
    "    for i in range(len(df)):\n",
    "        if math.isnan(df['prop_review_score'][i]):\n",
    "            df['prop_review_score'][i] = df['prop_starrating'][i]\n",
    "    return(df)\n",
    "tic()\n",
    "df = fill_prop_review_score(df)\n",
    "toc()"
   ]
  },
  {
   "cell_type": "code",
   "execution_count": 4,
   "metadata": {},
   "outputs": [
    {
     "name": "stdout",
     "output_type": "stream",
     "text": [
      "Elapsed time is 0.00802159309387207 seconds.\n"
     ]
    }
   ],
   "source": [
    "tic()\n",
    "# Drop column 'prop_location_score2', too many missing values.\n",
    "df = df.drop(columns=['prop_location_score2'])\n",
    "toc()"
   ]
  },
  {
   "cell_type": "code",
   "execution_count": 5,
   "metadata": {},
   "outputs": [
    {
     "name": "stdout",
     "output_type": "stream",
     "text": [
      "Elapsed time is 0.06001138687133789 seconds.\n"
     ]
    }
   ],
   "source": [
    "tic()\n",
    "# Code which adds columns with the average rate,inventory, and percentage difference between Expedia and competitors.\n",
    "def make_rates(data):\n",
    "    data['comp_rate'] = data[['comp1_rate',\n",
    "                            'comp2_rate',\n",
    "                            'comp3_rate',\n",
    "                            'comp4_rate',\n",
    "                            'comp5_rate',\n",
    "                            'comp6_rate',\n",
    "                            'comp7_rate',\n",
    "                            'comp8_rate']].mean(axis=1)\n",
    "    data['comp_rate'] = data['comp_rate'].fillna(0)\n",
    "    \n",
    "    data['comp_inv'] = data[['comp1_inv',\n",
    "                            'comp2_inv',\n",
    "                            'comp3_inv',\n",
    "                            'comp4_inv',\n",
    "                            'comp5_inv',\n",
    "                            'comp6_inv',\n",
    "                            'comp7_inv',\n",
    "                            'comp8_inv']].mean(axis=1)\n",
    "    data['comp_inv'] = data['comp_inv'].fillna(0)\n",
    "    \n",
    "    data['comp_percent'] = data[['comp1_rate_percent_diff',\n",
    "                            'comp2_rate_percent_diff',\n",
    "                            'comp3_rate_percent_diff',\n",
    "                            'comp4_rate_percent_diff',\n",
    "                            'comp5_rate_percent_diff',\n",
    "                            'comp6_rate_percent_diff',\n",
    "                            'comp7_rate_percent_diff',\n",
    "                            'comp8_rate_percent_diff']].mean(axis=1)\n",
    "    data['comp_percent'] = data['comp_percent'].fillna(0)\n",
    "    \n",
    "    return(data)\n",
    "df = make_rates(df)\n",
    "toc()"
   ]
  },
  {
   "cell_type": "code",
   "execution_count": 6,
   "metadata": {},
   "outputs": [
    {
     "name": "stdout",
     "output_type": "stream",
     "text": [
      "Elapsed time is 0.02403402328491211 seconds.\n"
     ]
    }
   ],
   "source": [
    "tic()\n",
    "# Dorp column 'prop_location_score2', too many missing values.\n",
    "df = df.drop(columns=['comp1_rate',\n",
    "                 'comp2_rate',\n",
    "                 'comp3_rate',\n",
    "                 'comp4_rate',\n",
    "                 'comp5_rate',\n",
    "                 'comp6_rate',\n",
    "                 'comp7_rate',\n",
    "                 'comp8_rate',\n",
    "                 'comp1_inv',\n",
    "                 'comp2_inv',\n",
    "                 'comp3_inv',\n",
    "                 'comp4_inv',\n",
    "                 'comp5_inv',\n",
    "                 'comp6_inv',\n",
    "                 'comp7_inv',\n",
    "                 'comp8_inv',\n",
    "                 'comp1_rate_percent_diff',\n",
    "                 'comp2_rate_percent_diff',\n",
    "                 'comp3_rate_percent_diff',\n",
    "                 'comp4_rate_percent_diff',\n",
    "                 'comp5_rate_percent_diff',\n",
    "                 'comp6_rate_percent_diff',\n",
    "                 'comp7_rate_percent_diff',\n",
    "                 'comp8_rate_percent_diff'])\n",
    "toc()"
   ]
  },
  {
   "cell_type": "code",
   "execution_count": null,
   "metadata": {},
   "outputs": [],
   "source": []
  },
  {
   "cell_type": "code",
   "execution_count": 8,
   "metadata": {},
   "outputs": [
    {
     "name": "stdout",
     "output_type": "stream",
     "text": [
      "the number is missing values in visitor_hist_starrating is 47435\n",
      "the number is missing values in visitor_hist_adr_usd is 47435\n",
      "the number is missing values in srch_query_affinity_score is 46736\n",
      "the number is missing values in orig_destination_distance is 15845\n",
      "the number is missing values in gross_bookings_usd is 48623\n"
     ]
    }
   ],
   "source": [
    "for var in df:\n",
    "    col = df[var]\n",
    "    missing = col.isnull().values.sum()\n",
    "    if missing >0:\n",
    "        print('the number is missing values in', var, 'is', col.isnull().values.sum())\n"
   ]
  },
  {
   "cell_type": "markdown",
   "metadata": {},
   "source": [
    "# Daan's stuk"
   ]
  },
  {
   "cell_type": "code",
   "execution_count": 9,
   "metadata": {},
   "outputs": [],
   "source": [
    "def orig_dest_distance_pandas_backup(visitor_country_id, prop_country_id, orig_destination_distance, i):\n",
    "    orig = visitor_country_id[i]\n",
    "    dest = prop_country_id[i]\n",
    "\n",
    "    # check if someone has the exact same but with a distance\n",
    "    others_pd = df.loc[df['visitor_location_country_id'] == orig]\n",
    "    others = others_pd.loc[others_pd['prop_country_id'] == dest]\n",
    "\n",
    "    if len(others) > 0 and others['orig_destination_distance'].isna().sum() < len(others):\n",
    "        return np.mean(others['orig_destination_distance'])\n",
    "\n",
    "    # only from same country\n",
    "    others = df.loc[df['visitor_location_country_id'] == orig]\n",
    "\n",
    "    if len(others) > 0 and others['orig_destination_distance'].isna().sum() < len(others):\n",
    "        return np.mean(others['orig_destination_distance'])\n",
    "\n",
    "    # only to same country\n",
    "    others = df.loc[df['prop_country_id'] == dest]\n",
    "\n",
    "    if len(others) > 0 and others['orig_destination_distance'].isna().sum() < len(others):\n",
    "        return np.mean(others['orig_destination_distance'])\n",
    "    \n",
    "    return 1301"
   ]
  },
  {
   "cell_type": "code",
   "execution_count": 10,
   "metadata": {},
   "outputs": [],
   "source": [
    "def orig_dest_distance(visitor_country_id, prop_country_id, orig_destination_distance, i):\n",
    "    orig = visitor_country_id[i]\n",
    "    dest = prop_country_id[i]\n",
    "\n",
    "    # check if someone has the exact same but with a distance\n",
    "    home = np.where(visitor_country_id == orig)\n",
    "    destination = np.where(prop_country_id == dest)\n",
    "\n",
    "    others_index = np.intersect1d(home, destination)\n",
    "    others = np.take(orig_destination_distance, others_index)\n",
    "    \n",
    "    nans_np = np.count_nonzero(np.isnan(others))\n",
    "\n",
    "    if len(others) > 0 and nans_np < len(others):\n",
    "        return np.nanmean(others)\n",
    "\n",
    "    # only from same country\n",
    "    others = np.where(visitor_country_id == orig)\n",
    "    others = np.take(orig_destination_distance, others)\n",
    "\n",
    "    nans_np = np.count_nonzero(np.isnan(others))\n",
    "\n",
    "    if len(others) > 0 and nans_np < len(others):\n",
    "        return np.nanmean(others)\n",
    "\n",
    "    # only to same country\n",
    "    others = np.where(prop_country_id == dest)\n",
    "    others = np.take(orig_destination_distance, others)\n",
    "\n",
    "    nans_np = np.count_nonzero(np.isnan(others))\n",
    "    if len(others) > 0 and nans_np < len(others):\n",
    "        return np.nanmean(others)\n",
    "    \n",
    "    return 1301"
   ]
  },
  {
   "cell_type": "code",
   "execution_count": 11,
   "metadata": {},
   "outputs": [],
   "source": [
    "def missing_distance(visitor_country_id, prop_country_id, orig_destination_distance):\n",
    "    for i in tqdm(range(len(orig_destination_distance))):\n",
    "\n",
    "        if np.isnan(orig_destination_distance[i]):\n",
    "            result = orig_dest_distance(visitor_country_id, prop_country_id, orig_destination_distance, i)\n",
    "            orig_destination_distance[i] = result\n",
    "\n",
    "    return orig_destination_distance"
   ]
  },
  {
   "cell_type": "code",
   "execution_count": 12,
   "metadata": {},
   "outputs": [
    {
     "name": "stderr",
     "output_type": "stream",
     "text": [
      "100%|██████████████████████████████████████████████████████████████████████████| 50000/50000 [00:15<00:00, 3150.92it/s]"
     ]
    },
    {
     "name": "stdout",
     "output_type": "stream",
     "text": [
      "Elapsed time is 15.884651184082031 seconds.\n"
     ]
    },
    {
     "name": "stderr",
     "output_type": "stream",
     "text": [
      "\n"
     ]
    }
   ],
   "source": [
    "tic()\n",
    "visitor_country_id = df['visitor_location_country_id'].to_numpy()\n",
    "prop_country_id = df['prop_country_id'].to_numpy()\n",
    "orig_destination_distance = df['orig_destination_distance'].to_numpy()\n",
    "\n",
    "df['orig_destination_distance'] = missing_distance(visitor_country_id, prop_country_id, orig_destination_distance)\n",
    "\n",
    "if df['orig_destination_distance'].isna().sum() != 0:\n",
    "    print(\"distance still has nans!!!!\")\n",
    "toc()"
   ]
  },
  {
   "cell_type": "code",
   "execution_count": 13,
   "metadata": {},
   "outputs": [
    {
     "name": "stdout",
     "output_type": "stream",
     "text": [
      "the number is missing values in visitor_hist_starrating is 47435\n",
      "the number is missing values in visitor_hist_adr_usd is 47435\n",
      "the number is missing values in srch_query_affinity_score is 46736\n",
      "the number is missing values in gross_bookings_usd is 48623\n"
     ]
    }
   ],
   "source": [
    "for var in df:\n",
    "    col = df[var]\n",
    "    missing = col.isnull().values.sum()\n",
    "    if missing >0:\n",
    "        print('the number is missing values in', var, 'is', col.isnull().values.sum())\n"
   ]
  },
  {
   "cell_type": "markdown",
   "metadata": {},
   "source": [
    "# Karim's stuk"
   ]
  },
  {
   "cell_type": "code",
   "execution_count": null,
   "metadata": {},
   "outputs": [],
   "source": [
    "import copy\n",
    "import dateparser\n",
    "import matplotlib.pyplot as plt\n",
    "import numpy as np\n",
    "import pandas as pd\n",
    "import time\n",
    "\n",
    "from numpy.core.numeric import NaN\n",
    "from tqdm import tqdm\n",
    "\n",
    "\n",
    "def trim_cols(data):\n",
    "    '''\n",
    "    removes columns with >95% missing data values\n",
    "    '''\n",
    "    print('Trimming columns with > 95% missing values:')\n",
    "\n",
    "    df = data.copy()\n",
    "    total_values = len(df.index)\n",
    "    removed_cols=[]\n",
    "    for col in tqdm(df, total = df.shape[1]):\n",
    "        missing_values = sum(df[col].isnull()==True)\n",
    "        if missing_values > .95 * total_values:\n",
    "            removed_cols.append(col)\n",
    "            df.drop(col, 1)\n",
    "\n",
    "    print('Removed cols:')\n",
    "    for col in removed_cols:\n",
    "        print(col)\n",
    "    print('\\n')\n",
    "\n",
    "    return df\n",
    "\n",
    "\n",
    "def get_daypart(hour):\n",
    "    ''' \n",
    "    retrieves daypart string based on hour of the day\n",
    "    for trim_dates function\n",
    "    '''\n",
    "    if (hour > 6) and (hour <= 12):\n",
    "        return 'Morning'\n",
    "    elif (hour > 12) and (hour <= 18 ):\n",
    "        return 'Afternoon'\n",
    "    elif (hour > 18) and (hour <= 24):\n",
    "        return 'Noon'\n",
    "    else:\n",
    "        return 'Night'\n",
    "\n",
    "\n",
    "def trim_dates(dates):\n",
    "    '''\n",
    "    replaces datetime column with separate month and daypart column\n",
    "    '''\n",
    "    print('Trimming datetime:')\n",
    "\n",
    "    months, dayparts = [], []\n",
    "    \n",
    "    for i in tqdm(range(len(dates))):\n",
    "        # split date and time\n",
    "        datetime = dateparser.parse(dates[i])\n",
    "\n",
    "        # retrieve month \n",
    "        month = datetime.date().month\n",
    "        months.append(month)\n",
    "                \n",
    "        # retrieve daypart based on hour of the day\n",
    "        hour = datetime.time().hour\n",
    "        daypart = get_daypart(hour)\n",
    "        dayparts.append(daypart)\n",
    "\n",
    "    return months, dayparts\n",
    "\n",
    "\n",
    "def round_halves(raw_values):\n",
    "    '''\n",
    "    rounds to halves\n",
    "    '''\n",
    "    values = np.nan_to_num(raw_values)\n",
    "    \n",
    "    # round ratings to halves, or add NA if data is missing\n",
    "    for i in tqdm(range(len(values))):\n",
    "        # progress bar    \n",
    "        if i % (1/len(values)) == 0:\n",
    "            print(i/len(values), '%', end='\\r')\n",
    "        \n",
    "        values[i] = round(values[i] * 2) / 2\n",
    "    \n",
    "    return values\n",
    "\n",
    "\n",
    "def trim_avg_spent(spent):\n",
    "    '''\n",
    "    trims average price spent per night for customers\n",
    "\n",
    "    TODO: kijken of de distributie heel hoog is rondom een getal, en daar misschien meer 'bins' maken\n",
    "    '''\n",
    "    print('Trimming visitor_hist_adr_usd:')\n",
    "    # spent = df['visitor_hist_adr_usd'].to_numpy()\n",
    "    avg_spent = np.nan_to_num(spent)\n",
    "\n",
    "    # round to every 50 dollars spent or add 'NA'\n",
    "    for i in tqdm(range(len(avg_spent))):\n",
    "        multiplier = round(avg_spent[i]/50)\n",
    "        avg_spent[i] = multiplier * 50\n",
    "\n",
    "    return avg_spent\n",
    "\n",
    "\n",
    "def trim_loc_score(loc_score1, loc_score2):\n",
    "    '''\n",
    "    rounds location score to halves or adds 'NA' for missing values\n",
    "    '''\n",
    "    print('Trimming prop_location_scores:')\n",
    "    score1 = np.nan_to_num(loc_score1)\n",
    "    score2 = np.nan_to_num(loc_score2)\n",
    "\n",
    "    for i in tqdm(range(len(score1))):\n",
    "        score1[i] = round(score1[i] * 2) / 2\n",
    "        score2[i] = round(score2[i] * 2) / 2    \n",
    "\n",
    "    return score1, score2\n",
    "\n",
    "\n",
    "def trim_hist_price(price):\n",
    "    '''\n",
    "    rounds prices or add NA for values of 0\n",
    "    '''\n",
    "    print('Trimming prop_log_historical_price:')\n",
    "    hist_price = np.nan_to_num(price)\n",
    "    for i in tqdm(range(len(hist_price))):\n",
    "        hist_price[i] = round(hist_price[i] * 2) / 2\n",
    "        \n",
    "    return hist_price\n",
    "\n",
    "\n",
    "def trim_price(price):\n",
    "    print('Trimming price_usd:')\n",
    "    trimmed_price = np.nan_to_num(price)\n",
    "    for i in tqdm(range(len(trimmed_price))):    \n",
    "        trimmed_price[i] = round(trimmed_price[i])\n",
    "\n",
    "    return trimmed_price\n",
    "    \n",
    "\n",
    "def trim_booking_window(bw):\n",
    "    '''\n",
    "    changes booking window from days to weeks\n",
    "    '''\n",
    "    print('Trimming srch_booking_window')\n",
    "    booking_window = np.nan_to_num(bw)\n",
    "    \n",
    "    for i in tqdm(range(len(booking_window))):\n",
    "        booking_window[i] = round(booking_window[i]/7)\n",
    "        \n",
    "    return booking_window\n",
    "\n",
    "\n",
    "def trim_dest_dist(bw):\n",
    "    '''\n",
    "    divides distance to destination by 100 miles\n",
    "    '''\n",
    "    booking_window = np.nan_to_num(bw)\n",
    "    print('Trimming orig_destination_distance:')\n",
    "\n",
    "    for i in tqdm(range(len(dest_dist))):\n",
    "        dest_dist[i] = round(dest_dist[i]/100)\n",
    "        \n",
    "    return dest_dist"
   ]
  }
 ],
 "metadata": {
  "kernelspec": {
   "display_name": "Python 3",
   "language": "python",
   "name": "python3"
  },
  "language_info": {
   "codemirror_mode": {
    "name": "ipython",
    "version": 3
   },
   "file_extension": ".py",
   "mimetype": "text/x-python",
   "name": "python",
   "nbconvert_exporter": "python",
   "pygments_lexer": "ipython3",
   "version": "3.8.7"
  }
 },
 "nbformat": 4,
 "nbformat_minor": 4
}
