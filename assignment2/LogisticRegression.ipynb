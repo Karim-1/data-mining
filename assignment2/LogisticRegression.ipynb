{
 "cells": [
  {
   "cell_type": "code",
   "execution_count": 71,
   "metadata": {},
   "outputs": [],
   "source": [
    "import pandas as pd\n",
    "import numpy as np\n",
    "import copy\n",
    "import matplotlib.pyplot as plt\n",
    "import time\n",
    "import random\n",
    "\n",
    "from tqdm import tqdm\n",
    "from sklearn.linear_model import LogisticRegression\n",
    "from sklearn.ensemble import RandomForestClassifier\n"
   ]
  },
  {
   "cell_type": "code",
   "execution_count": 63,
   "metadata": {
    "scrolled": true
   },
   "outputs": [],
   "source": [
    "# import datasets\n",
    "test = pd.read_csv(\"../test.csv\")\n",
    "train = pd.read_csv(\"../train.csv\")"
   ]
  },
  {
   "cell_type": "code",
   "execution_count": 64,
   "metadata": {},
   "outputs": [],
   "source": [
    "def trim_searchid(ids, booking_bools):\n",
    "    '''\n",
    "    removes searchid's where no hotel was booked from training data\n",
    "    '''\n",
    "    no_booking = []\n",
    "    booking = False\n",
    "    \n",
    "    for i in tqdm(range(len(ids))):\n",
    "        \n",
    "        if booking_bools[i] == 1:\n",
    "            booking = True\n",
    "        # calculate relative price to average price\n",
    "        if ids[i-1] != ids[i] or i == len(ids)-1: \n",
    "            if booking == False:\n",
    "                no_booking.append(ids[i-1])\n",
    "            booking = False\n",
    "\n",
    "        \n",
    "    ids_to_be_removed = set(no_booking)\n",
    "    return no_booking    "
   ]
  },
  {
   "cell_type": "code",
   "execution_count": 65,
   "metadata": {
    "scrolled": true
   },
   "outputs": [
    {
     "name": "stderr",
     "output_type": "stream",
     "text": [
      "100%|██████████| 4958347/4958347 [00:07<00:00, 641598.26it/s]\n"
     ]
    },
    {
     "name": "stdout",
     "output_type": "stream",
     "text": [
      "number of entries with all hotels: 4958347\n",
      "after entries with no booking are removed: 3386771\n"
     ]
    }
   ],
   "source": [
    "'''\n",
    "ID's waar niks is geboekt worden weggehaald\n",
    "'''\n",
    "ids = train['srch_id'].to_numpy()\n",
    "booking_bools = train['booking_bool'].to_numpy()\n",
    "ids_to_be_removed = set(trim_searchid(ids, booking_bools))\n",
    "\n",
    "print('number of entries with all hotels:',len(train.index))\n",
    "\n",
    "train = train[~train['srch_id'].isin(ids_to_be_removed)]\n",
    "# test = test[~test['srch_id'].isin(ids_to_be_removed)]\n",
    "    \n",
    "print('after entries with no booking are removed:',len(train.index))"
   ]
  },
  {
   "cell_type": "code",
   "execution_count": 66,
   "metadata": {},
   "outputs": [
    {
     "name": "stderr",
     "output_type": "stream",
     "text": [
      "100%|██████████| 3386771/3386771 [00:02<00:00, 1304050.73it/s]\n"
     ]
    },
    {
     "name": "stdout",
     "output_type": "stream",
     "text": [
      "number of hotels before 118839\n",
      "number of hotels after 83346\n"
     ]
    }
   ],
   "source": [
    "def get_booked_hotels(hotels, booking_bools):\n",
    "    '''werkt nog niet!!'''\n",
    "    bookings = len(np.where(booking_bools==1)[0])\n",
    "    proportion_booked = bookings / len(booking_bools)\n",
    "    \n",
    "    to_be_kept = []\n",
    "    \n",
    "    for i in tqdm(range(len(booking_bools))):\n",
    "        if booking_bools[i] == 1:\n",
    "            to_be_kept.append(hotels[i])\n",
    "\n",
    "    return set(to_be_kept)\n",
    "    \n",
    "                \n",
    "hotels = train['prop_id'].to_numpy()\n",
    "booking_bools = train['booking_bool'].to_numpy()\n",
    "\n",
    "hotels_to_keep = get_booked_hotels(hotels, booking_bools)\n",
    "all_hotels = set(hotels)\n",
    "non_booked_hotels = [hotel for hotel in all_hotels if hotel not in booked_hotels]\n",
    "\n",
    "\n",
    "nr_of_non_booked_to_be_kept = len(booked_hotels)\n",
    "hotels_to_keep = list(hotels_to_keep)\n",
    "\n",
    "random.shuffle(non_booked_hotels)\n",
    "hotels_to_keep.extend(non_booked_hotels[0:nr_of_non_booked_to_be_kept])\n",
    "\n",
    "print('number of hotels before', len(set(hotels)))\n",
    "print('number of hotels after', len(hotels_to_keep))\n",
    "\n",
    "\n",
    "# print('with all hotels:', len(train.index))\n",
    "# train = train[train.index.isin(indices)]\n",
    "# print('after most hotels with no bookings are removed:',len(train.index))\n"
   ]
  },
  {
   "cell_type": "code",
   "execution_count": 67,
   "metadata": {
    "scrolled": true
   },
   "outputs": [
    {
     "name": "stdout",
     "output_type": "stream",
     "text": [
      "entries with all hotels: 3386771\n",
      "after most hotels with no bookings are removed: 2996245\n"
     ]
    }
   ],
   "source": [
    "print('entries with all hotels:', len(train.index))\n",
    "train = train[train['prop_id'].isin(hotels_to_keep)]\n",
    "print('after most hotels with no bookings are removed:',len(train.index))"
   ]
  },
  {
   "cell_type": "code",
   "execution_count": 60,
   "metadata": {},
   "outputs": [
    {
     "ename": "ValueError",
     "evalue": "columns overlap but no suffix specified: Index(['%booked_prop'], dtype='object')",
     "output_type": "error",
     "traceback": [
      "\u001b[0;31m---------------------------------------------------------------------------\u001b[0m",
      "\u001b[0;31mValueError\u001b[0m                                Traceback (most recent call last)",
      "\u001b[0;32m<ipython-input-60-db5c62ca97e8>\u001b[0m in \u001b[0;36m<module>\u001b[0;34m\u001b[0m\n\u001b[1;32m     11\u001b[0m \u001b[0;34m\u001b[0m\u001b[0m\n\u001b[1;32m     12\u001b[0m \u001b[0mhotel_quality\u001b[0m\u001b[0;34m\u001b[0m\u001b[0;34m\u001b[0m\u001b[0m\n\u001b[0;32m---> 13\u001b[0;31m \u001b[0mtrain\u001b[0m \u001b[0;34m=\u001b[0m \u001b[0mtrain\u001b[0m\u001b[0;34m.\u001b[0m\u001b[0mjoin\u001b[0m\u001b[0;34m(\u001b[0m\u001b[0mhotel_quality\u001b[0m\u001b[0;34m[\u001b[0m\u001b[0;34m'%booked_prop'\u001b[0m\u001b[0;34m]\u001b[0m\u001b[0;34m,\u001b[0m \u001b[0mon\u001b[0m \u001b[0;34m=\u001b[0m \u001b[0;34m\"prop_id\"\u001b[0m\u001b[0;34m)\u001b[0m\u001b[0;34m\u001b[0m\u001b[0;34m\u001b[0m\u001b[0m\n\u001b[0m\u001b[1;32m     14\u001b[0m \u001b[0mtrain\u001b[0m \u001b[0;34m=\u001b[0m \u001b[0mtrain\u001b[0m\u001b[0;34m.\u001b[0m\u001b[0mjoin\u001b[0m\u001b[0;34m(\u001b[0m\u001b[0mhotel_quality\u001b[0m\u001b[0;34m[\u001b[0m\u001b[0;34m'%clicked_prop'\u001b[0m\u001b[0;34m]\u001b[0m\u001b[0;34m,\u001b[0m \u001b[0mon\u001b[0m \u001b[0;34m=\u001b[0m \u001b[0;34m\"prop_id\"\u001b[0m\u001b[0;34m)\u001b[0m\u001b[0;34m\u001b[0m\u001b[0;34m\u001b[0m\u001b[0m\n\u001b[1;32m     15\u001b[0m \u001b[0;34m\u001b[0m\u001b[0m\n",
      "\u001b[0;32m/opt/anaconda3/lib/python3.8/site-packages/pandas/core/frame.py\u001b[0m in \u001b[0;36mjoin\u001b[0;34m(self, other, on, how, lsuffix, rsuffix, sort)\u001b[0m\n\u001b[1;32m   7206\u001b[0m         \u001b[0;36m5\u001b[0m  \u001b[0mK5\u001b[0m  \u001b[0mA5\u001b[0m  \u001b[0mNaN\u001b[0m\u001b[0;34m\u001b[0m\u001b[0;34m\u001b[0m\u001b[0m\n\u001b[1;32m   7207\u001b[0m         \"\"\"\n\u001b[0;32m-> 7208\u001b[0;31m         return self._join_compat(\n\u001b[0m\u001b[1;32m   7209\u001b[0m             \u001b[0mother\u001b[0m\u001b[0;34m,\u001b[0m \u001b[0mon\u001b[0m\u001b[0;34m=\u001b[0m\u001b[0mon\u001b[0m\u001b[0;34m,\u001b[0m \u001b[0mhow\u001b[0m\u001b[0;34m=\u001b[0m\u001b[0mhow\u001b[0m\u001b[0;34m,\u001b[0m \u001b[0mlsuffix\u001b[0m\u001b[0;34m=\u001b[0m\u001b[0mlsuffix\u001b[0m\u001b[0;34m,\u001b[0m \u001b[0mrsuffix\u001b[0m\u001b[0;34m=\u001b[0m\u001b[0mrsuffix\u001b[0m\u001b[0;34m,\u001b[0m \u001b[0msort\u001b[0m\u001b[0;34m=\u001b[0m\u001b[0msort\u001b[0m\u001b[0;34m\u001b[0m\u001b[0;34m\u001b[0m\u001b[0m\n\u001b[1;32m   7210\u001b[0m         )\n",
      "\u001b[0;32m/opt/anaconda3/lib/python3.8/site-packages/pandas/core/frame.py\u001b[0m in \u001b[0;36m_join_compat\u001b[0;34m(self, other, on, how, lsuffix, rsuffix, sort)\u001b[0m\n\u001b[1;32m   7222\u001b[0m \u001b[0;34m\u001b[0m\u001b[0m\n\u001b[1;32m   7223\u001b[0m         \u001b[0;32mif\u001b[0m \u001b[0misinstance\u001b[0m\u001b[0;34m(\u001b[0m\u001b[0mother\u001b[0m\u001b[0;34m,\u001b[0m \u001b[0mDataFrame\u001b[0m\u001b[0;34m)\u001b[0m\u001b[0;34m:\u001b[0m\u001b[0;34m\u001b[0m\u001b[0;34m\u001b[0m\u001b[0m\n\u001b[0;32m-> 7224\u001b[0;31m             return merge(\n\u001b[0m\u001b[1;32m   7225\u001b[0m                 \u001b[0mself\u001b[0m\u001b[0;34m,\u001b[0m\u001b[0;34m\u001b[0m\u001b[0;34m\u001b[0m\u001b[0m\n\u001b[1;32m   7226\u001b[0m                 \u001b[0mother\u001b[0m\u001b[0;34m,\u001b[0m\u001b[0;34m\u001b[0m\u001b[0;34m\u001b[0m\u001b[0m\n",
      "\u001b[0;32m/opt/anaconda3/lib/python3.8/site-packages/pandas/core/reshape/merge.py\u001b[0m in \u001b[0;36mmerge\u001b[0;34m(left, right, how, on, left_on, right_on, left_index, right_index, sort, suffixes, copy, indicator, validate)\u001b[0m\n\u001b[1;32m     86\u001b[0m         \u001b[0mvalidate\u001b[0m\u001b[0;34m=\u001b[0m\u001b[0mvalidate\u001b[0m\u001b[0;34m,\u001b[0m\u001b[0;34m\u001b[0m\u001b[0;34m\u001b[0m\u001b[0m\n\u001b[1;32m     87\u001b[0m     )\n\u001b[0;32m---> 88\u001b[0;31m     \u001b[0;32mreturn\u001b[0m \u001b[0mop\u001b[0m\u001b[0;34m.\u001b[0m\u001b[0mget_result\u001b[0m\u001b[0;34m(\u001b[0m\u001b[0;34m)\u001b[0m\u001b[0;34m\u001b[0m\u001b[0;34m\u001b[0m\u001b[0m\n\u001b[0m\u001b[1;32m     89\u001b[0m \u001b[0;34m\u001b[0m\u001b[0m\n\u001b[1;32m     90\u001b[0m \u001b[0;34m\u001b[0m\u001b[0m\n",
      "\u001b[0;32m/opt/anaconda3/lib/python3.8/site-packages/pandas/core/reshape/merge.py\u001b[0m in \u001b[0;36mget_result\u001b[0;34m(self)\u001b[0m\n\u001b[1;32m    646\u001b[0m         \u001b[0mlsuf\u001b[0m\u001b[0;34m,\u001b[0m \u001b[0mrsuf\u001b[0m \u001b[0;34m=\u001b[0m \u001b[0mself\u001b[0m\u001b[0;34m.\u001b[0m\u001b[0msuffixes\u001b[0m\u001b[0;34m\u001b[0m\u001b[0;34m\u001b[0m\u001b[0m\n\u001b[1;32m    647\u001b[0m \u001b[0;34m\u001b[0m\u001b[0m\n\u001b[0;32m--> 648\u001b[0;31m         llabels, rlabels = _items_overlap_with_suffix(\n\u001b[0m\u001b[1;32m    649\u001b[0m             \u001b[0mldata\u001b[0m\u001b[0;34m.\u001b[0m\u001b[0mitems\u001b[0m\u001b[0;34m,\u001b[0m \u001b[0mlsuf\u001b[0m\u001b[0;34m,\u001b[0m \u001b[0mrdata\u001b[0m\u001b[0;34m.\u001b[0m\u001b[0mitems\u001b[0m\u001b[0;34m,\u001b[0m \u001b[0mrsuf\u001b[0m\u001b[0;34m\u001b[0m\u001b[0;34m\u001b[0m\u001b[0m\n\u001b[1;32m    650\u001b[0m         )\n",
      "\u001b[0;32m/opt/anaconda3/lib/python3.8/site-packages/pandas/core/reshape/merge.py\u001b[0m in \u001b[0;36m_items_overlap_with_suffix\u001b[0;34m(left, lsuffix, right, rsuffix)\u001b[0m\n\u001b[1;32m   2022\u001b[0m \u001b[0;34m\u001b[0m\u001b[0m\n\u001b[1;32m   2023\u001b[0m     \u001b[0;32mif\u001b[0m \u001b[0;32mnot\u001b[0m \u001b[0mlsuffix\u001b[0m \u001b[0;32mand\u001b[0m \u001b[0;32mnot\u001b[0m \u001b[0mrsuffix\u001b[0m\u001b[0;34m:\u001b[0m\u001b[0;34m\u001b[0m\u001b[0;34m\u001b[0m\u001b[0m\n\u001b[0;32m-> 2024\u001b[0;31m         raise ValueError(\n\u001b[0m\u001b[1;32m   2025\u001b[0m             \u001b[0;34m\"columns overlap but no suffix specified: \"\u001b[0m\u001b[0;34m\u001b[0m\u001b[0;34m\u001b[0m\u001b[0m\n\u001b[1;32m   2026\u001b[0m             \u001b[0;34m\"{rename}\"\u001b[0m\u001b[0;34m.\u001b[0m\u001b[0mformat\u001b[0m\u001b[0;34m(\u001b[0m\u001b[0mrename\u001b[0m\u001b[0;34m=\u001b[0m\u001b[0mto_rename\u001b[0m\u001b[0;34m)\u001b[0m\u001b[0;34m\u001b[0m\u001b[0;34m\u001b[0m\u001b[0m\n",
      "\u001b[0;31mValueError\u001b[0m: columns overlap but no suffix specified: Index(['%booked_prop'], dtype='object')"
     ]
    }
   ],
   "source": [
    "#Hotel quality (2nd place feature engineering solution)\n",
    "hotel_quality = pd.DataFrame(train.prop_id.value_counts(dropna = False))\n",
    "\n",
    "hotel_quality = hotel_quality.join(pd.DataFrame(train.prop_id[train.booking_bool == 1].value_counts().astype(int)), rsuffix = \"book\")\n",
    "hotel_quality = hotel_quality.join(pd.DataFrame(train.prop_id[train.click_bool == 1].value_counts().astype(int)), rsuffix = \"click\")\n",
    "hotel_quality.columns = [\"counts\", \"booked\", \"clicked\"]\n",
    "\n",
    "\n",
    "hotel_quality[\"%booked_prop\"] = hotel_quality.booked / hotel_quality.counts * 100\n",
    "hotel_quality[\"%clicked_prop\"] = hotel_quality.clicked / hotel_quality.counts * 100\n",
    "\n",
    "hotel_quality\n",
    "train = train.join(hotel_quality['%booked_prop'], on = \"prop_id\").fillna(0)\n",
    "train = train.join(hotel_quality['%clicked_prop'], on = \"prop_id\").fillna(0)\n",
    "\n",
    "#Add the same features to the test set\n",
    "test = test.join(hotel_quality['%booked_prop'], on = \"prop_id\")\n",
    "test = test.join(hotel_quality['%clicked_prop'], on = \"prop_id\")"
   ]
  },
  {
   "cell_type": "markdown",
   "metadata": {},
   "source": [
    "## Hele dateset:"
   ]
  },
  {
   "cell_type": "code",
   "execution_count": 68,
   "metadata": {
    "scrolled": true
   },
   "outputs": [
    {
     "name": "stdout",
     "output_type": "stream",
     "text": [
      "34 cols left\n",
      "-----------------------\n",
      "dropping click_bool\n",
      "dropping booking_bool\n",
      "dropping position\n",
      "31 cols left\n",
      "-----------------------\n",
      "dropping Unnamed: 0\n",
      "dropping srch_id\n",
      "dropping visitor_hist_starrating\n",
      "dropping visitor_hist_adr_usd\n",
      "dropping srch_query_affinity_score\n",
      "dropping comp_percent\n",
      "-----------------------\n",
      "25 cols left\n"
     ]
    }
   ],
   "source": [
    "'''\n",
    "drop cols we don't want to use for the classifier\n",
    "'''\n",
    "\n",
    "print(len(train.columns), 'cols left')\n",
    "print('-----------------------')\n",
    "\n",
    "\n",
    "booking_bool = train['booking_bool'].to_numpy()\n",
    "test_ids = test['srch_id'].to_numpy()\n",
    "\n",
    "train_copy = train\n",
    "for colname in train.columns:\n",
    "    if colname not in test.columns:\n",
    "        print('dropping', colname)\n",
    "        train_copy = train_copy.drop(colname, axis=1)\n",
    "\n",
    "\n",
    "print(len(train_copy.columns), 'cols left')\n",
    "print('-----------------------')\n",
    "\n",
    "\n",
    "\n",
    "cols_to_be_removed = ['Unnamed: 0',\n",
    "                      'srch_id',\n",
    "                      'visitor_hist_starrating',\n",
    "                      'visitor_hist_adr_usd',\n",
    "                      'srch_query_affinity_score',\n",
    "                      'comp_percent']\n",
    "\n",
    "for colname in cols_to_be_removed:\n",
    "    print('dropping', colname)\n",
    "    train_copy = train_copy.drop(colname, axis=1)\n",
    "    test = test.drop(colname, axis=1)\n",
    "    \n",
    "\n",
    "\n",
    "print('-----------------------')\n",
    "print(len(train_copy.columns), 'cols left')\n",
    "\n",
    "\n"
   ]
  },
  {
   "cell_type": "code",
   "execution_count": null,
   "metadata": {},
   "outputs": [],
   "source": [
    "clf = RandomForestClassifier().fit(train_copy, booking_bool)\n",
    "\n",
    "predictions = clf.predict_proba(test)\n",
    "\n",
    "# clf = LogisticRegression(max_iter=1000).fit(train_copy, booking_bool)\n",
    "\n",
    "# predictions = clf.predict_proba(test)"
   ]
  },
  {
   "cell_type": "code",
   "execution_count": 50,
   "metadata": {
    "scrolled": true
   },
   "outputs": [
    {
     "data": {
      "text/html": [
       "<div>\n",
       "<style scoped>\n",
       "    .dataframe tbody tr th:only-of-type {\n",
       "        vertical-align: middle;\n",
       "    }\n",
       "\n",
       "    .dataframe tbody tr th {\n",
       "        vertical-align: top;\n",
       "    }\n",
       "\n",
       "    .dataframe thead th {\n",
       "        text-align: right;\n",
       "    }\n",
       "</style>\n",
       "<table border=\"1\" class=\"dataframe\">\n",
       "  <thead>\n",
       "    <tr style=\"text-align: right;\">\n",
       "      <th></th>\n",
       "      <th>srch_id</th>\n",
       "      <th>prop_id</th>\n",
       "      <th>Probability_of_booking</th>\n",
       "    </tr>\n",
       "  </thead>\n",
       "  <tbody>\n",
       "    <tr>\n",
       "      <th>0</th>\n",
       "      <td>1</td>\n",
       "      <td>3180</td>\n",
       "      <td>0.016918</td>\n",
       "    </tr>\n",
       "    <tr>\n",
       "      <th>1</th>\n",
       "      <td>1</td>\n",
       "      <td>5543</td>\n",
       "      <td>0.016941</td>\n",
       "    </tr>\n",
       "    <tr>\n",
       "      <th>2</th>\n",
       "      <td>1</td>\n",
       "      <td>14142</td>\n",
       "      <td>0.017311</td>\n",
       "    </tr>\n",
       "    <tr>\n",
       "      <th>3</th>\n",
       "      <td>1</td>\n",
       "      <td>22393</td>\n",
       "      <td>0.016181</td>\n",
       "    </tr>\n",
       "    <tr>\n",
       "      <th>4</th>\n",
       "      <td>1</td>\n",
       "      <td>24194</td>\n",
       "      <td>0.016127</td>\n",
       "    </tr>\n",
       "    <tr>\n",
       "      <th>...</th>\n",
       "      <td>...</td>\n",
       "      <td>...</td>\n",
       "      <td>...</td>\n",
       "    </tr>\n",
       "    <tr>\n",
       "      <th>4959178</th>\n",
       "      <td>332787</td>\n",
       "      <td>32019</td>\n",
       "      <td>0.023805</td>\n",
       "    </tr>\n",
       "    <tr>\n",
       "      <th>4959179</th>\n",
       "      <td>332787</td>\n",
       "      <td>33959</td>\n",
       "      <td>0.023987</td>\n",
       "    </tr>\n",
       "    <tr>\n",
       "      <th>4959180</th>\n",
       "      <td>332787</td>\n",
       "      <td>35240</td>\n",
       "      <td>0.024929</td>\n",
       "    </tr>\n",
       "    <tr>\n",
       "      <th>4959181</th>\n",
       "      <td>332787</td>\n",
       "      <td>94437</td>\n",
       "      <td>0.020915</td>\n",
       "    </tr>\n",
       "    <tr>\n",
       "      <th>4959182</th>\n",
       "      <td>332787</td>\n",
       "      <td>99509</td>\n",
       "      <td>0.019676</td>\n",
       "    </tr>\n",
       "  </tbody>\n",
       "</table>\n",
       "<p>4959183 rows × 3 columns</p>\n",
       "</div>"
      ],
      "text/plain": [
       "         srch_id  prop_id  Probability_of_booking\n",
       "0              1     3180                0.016918\n",
       "1              1     5543                0.016941\n",
       "2              1    14142                0.017311\n",
       "3              1    22393                0.016181\n",
       "4              1    24194                0.016127\n",
       "...          ...      ...                     ...\n",
       "4959178   332787    32019                0.023805\n",
       "4959179   332787    33959                0.023987\n",
       "4959180   332787    35240                0.024929\n",
       "4959181   332787    94437                0.020915\n",
       "4959182   332787    99509                0.019676\n",
       "\n",
       "[4959183 rows x 3 columns]"
      ]
     },
     "execution_count": 50,
     "metadata": {},
     "output_type": "execute_result"
    }
   ],
   "source": [
    "test_results = pd.DataFrame()\n",
    "test_results['srch_id'] = test_ids\n",
    "test_results['prop_id'] = [int(x) for x in test['prop_id']] #somehow it changes the prop_id values into floats?\n",
    "\n",
    "pred_1 = []\n",
    "for i in range(len(predictions)):\n",
    "    pred_1.append(predictions[i][1])\n",
    "    \n",
    "test_results['Probability_of_booking'] = pred_1\n",
    "test_results"
   ]
  },
  {
   "cell_type": "code",
   "execution_count": 53,
   "metadata": {},
   "outputs": [
    {
     "name": "stdout",
     "output_type": "stream",
     "text": [
      "         srch_id  prop_id\n",
      "2              1    14142\n",
      "1              1     5543\n",
      "0              1     3180\n",
      "3              1    22393\n",
      "4              1    24194\n",
      "...          ...      ...\n",
      "4959178   332787    32019\n",
      "4959176   332787    22854\n",
      "4959177   332787    29018\n",
      "4959181   332787    94437\n",
      "4959182   332787    99509\n",
      "\n",
      "[4959183 rows x 2 columns]\n"
     ]
    }
   ],
   "source": [
    "final_results = test_results.sort_values(by = ['srch_id','Probability_of_booking'], ascending=[True,False])\n",
    "final_results = final_results.drop('Probability_of_booking', 1)\n",
    "print(final_results)\n"
   ]
  },
  {
   "cell_type": "code",
   "execution_count": 54,
   "metadata": {},
   "outputs": [],
   "source": [
    "final_results\n",
    "final_results.to_csv('results/randomforest_less_cols.csv', index=False)"
   ]
  },
  {
   "cell_type": "code",
   "execution_count": null,
   "metadata": {},
   "outputs": [],
   "source": []
  }
 ],
 "metadata": {
  "kernelspec": {
   "display_name": "Python 3",
   "language": "python",
   "name": "python3"
  },
  "language_info": {
   "codemirror_mode": {
    "name": "ipython",
    "version": 3
   },
   "file_extension": ".py",
   "mimetype": "text/x-python",
   "name": "python",
   "nbconvert_exporter": "python",
   "pygments_lexer": "ipython3",
   "version": "3.8.3"
  }
 },
 "nbformat": 4,
 "nbformat_minor": 4
}
