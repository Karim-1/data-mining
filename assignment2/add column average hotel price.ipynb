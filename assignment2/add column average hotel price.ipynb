{
 "cells": [
  {
   "cell_type": "code",
   "execution_count": null,
   "metadata": {},
   "outputs": [],
   "source": [
    "import pandas as pd\n",
    "import numpy as np\n",
    "import copy\n",
    "import matplotlib.pyplot as plt\n",
    "import seaborn as sns\n",
    "import random\n",
    "from tqdm import tqdm\n",
    "import math\n",
    "import missingno as msno\n",
    "\n",
    "def tic():\n",
    "    import time\n",
    "    global startTime_for_tictoc\n",
    "    startTime_for_tictoc = time.time()\n",
    "\n",
    "def toc():\n",
    "    import time\n",
    "    if 'startTime_for_tictoc' in globals():\n",
    "        print (\"Elapsed time is \" + str(time.time() - startTime_for_tictoc) + \" seconds.\")\n",
    "    else:\n",
    "        print(\"Toc: start time not set\")"
   ]
  },
  {
   "cell_type": "code",
   "execution_count": null,
   "metadata": {},
   "outputs": [],
   "source": [
    "df = pd.read_csv(\"small_data/50000_training_set_VU_DM.csv\")"
   ]
  },
  {
   "cell_type": "markdown",
   "metadata": {},
   "source": [
    "# Average hotel price MOET NOG AFGEROND OID"
   ]
  },
  {
   "cell_type": "code",
   "execution_count": null,
   "metadata": {},
   "outputs": [],
   "source": [
    "# average hotel price\n",
    "# OVER HELE SET\n",
    "def add_average_hotel_price(df):\n",
    "\n",
    "    df['Average_hotel_price'] = df['prop_id']\n",
    "\n",
    "    properties = []\n",
    "    average_prices = []\n",
    "    for prop in df['prop_id']:\n",
    "        if prop not in properties:\n",
    "            properties.append(prop)\n",
    "            average = df[df['prop_id'] == prop]['price_usd'].mean()\n",
    "            average_prices.append(average)\n",
    "\n",
    "    for i in range(len(properties)):\n",
    "        prop = properties[i]\n",
    "        aver = average_prices[i]\n",
    "        df['Average_hotel_price'] = df['Average_hotel_price'].replace(prop, aver)\n",
    "    return(df)\n",
    "\n",
    "df = add_average_hotel_price(df)"
   ]
  },
  {
   "cell_type": "code",
   "execution_count": null,
   "metadata": {},
   "outputs": [],
   "source": [
    "df['price_usd'].nlargest(50)"
   ]
  },
  {
   "cell_type": "markdown",
   "metadata": {},
   "source": [
    "# Total clicked in train, toevoegen"
   ]
  },
  {
   "cell_type": "code",
   "execution_count": null,
   "metadata": {},
   "outputs": [],
   "source": [
    "# # average hotel price\n",
    "\n",
    "# # df['Average_click_bool'] = df['prop_id']\n",
    "\n",
    "# # ALEEEN OVER TRAIN SET\n",
    "# prop_clicked = {}\n",
    "# for prop in df['prop_id']:\n",
    "#     if prop not in prop_clicked:\n",
    "#         total_clicks = df[df['prop_id'] == prop]['click_bool'].mean()\n",
    "#         prop_clicked[prop] = total_clicks\n",
    "\n",
    "# # # \n",
    "\n",
    "# # OVER DE HELE DATASET\n",
    "# df['Total_click_prop'] = [0] * len(df)\n",
    "# for i in range(len(df)):\n",
    "#     prop = df['prop_id'][i]\n",
    "#     if prop in prop_clicked:\n",
    "#         print(prop_clicked[prop])\n",
    "#         print('first', df['Total_click_prop'][i])\n",
    "#         df['Total_click_prop', i] = prop_clicked[prop]\n",
    "#         print('second',df['Total_click_prop'][i])\n"
   ]
  },
  {
   "cell_type": "markdown",
   "metadata": {},
   "source": [
    "# columns to drop"
   ]
  },
  {
   "cell_type": "code",
   "execution_count": null,
   "metadata": {},
   "outputs": [],
   "source": [
    "\n",
    "df = df.drop(columns=['comp1_rate',\n",
    "                      'comp2_rate',\n",
    "                      'comp3_rate',\n",
    "                      'comp4_rate',\n",
    "                      'comp5_rate',\n",
    "                      'comp6_rate',\n",
    "                      'comp7_rate',\n",
    "                      'comp8_rate',\n",
    "                      'comp1_inv',\n",
    "                      'comp2_inv',\n",
    "                      'comp3_inv',\n",
    "                      'comp4_inv',\n",
    "                      'comp5_inv',\n",
    "                      'comp6_inv',\n",
    "                      'comp7_inv',\n",
    "                      'comp8_inv',\n",
    "                      'comp1_rate_percent_diff',\n",
    "                      'comp2_rate_percent_diff',\n",
    "                      'comp3_rate_percent_diff',\n",
    "                      'comp4_rate_percent_diff',\n",
    "                      'comp5_rate_percent_diff',\n",
    "                      'comp6_rate_percent_diff',\n",
    "                      'comp7_rate_percent_diff',\n",
    "                      'comp8_rate_percent_diff',\n",
    "                      'gross_bookings_usd',\n",
    "                      'date_time',\n",
    "                      'srch_query_affinity_score',\n",
    "                      'Unnamed: 0'])"
   ]
  }
 ],
 "metadata": {
  "kernelspec": {
   "display_name": "Python 3",
   "language": "python",
   "name": "python3"
  },
  "language_info": {
   "codemirror_mode": {
    "name": "ipython",
    "version": 3
   },
   "file_extension": ".py",
   "mimetype": "text/x-python",
   "name": "python",
   "nbconvert_exporter": "python",
   "pygments_lexer": "ipython3",
   "version": "3.8.7"
  }
 },
 "nbformat": 4,
 "nbformat_minor": 4
}
